{
 "cells": [
  {
   "cell_type": "code",
   "execution_count": 17,
   "metadata": {},
   "outputs": [
    {
     "name": "stdout",
     "output_type": "stream",
     "text": [
      "Introduce data#1: 1\n",
      "Introduce data#2: 5\n",
      "Introduce data#3: 1\n",
      "Introduce data#4: 4\n",
      "Introduce data#5: 1\n",
      "\n",
      "Write 0 to stop process or Write 1 to continue\n",
      "\n",
      "Introduce your answer: 0\n",
      "Write 0 if you want all the things but if you want only one thing  Write 1: 0\n",
      "Sample mean:2.4\n",
      "Mode:[1.0]\n",
      "Standard deviation:2.2891046284519194\n"
     ]
    }
   ],
   "source": [
    "i = 0\n",
    "n = 1\n",
    "datos=0\n",
    "listx = []\n",
    "sumX=0\n",
    "repetir=0\n",
    "for k in range(0,5):\n",
    "    x = float(input(f\"Introduce data#{n}: \"))             \n",
    "    listx.append(x)\n",
    "    sumX+=x\n",
    "    n+=1\n",
    "    datos+=1\n",
    "while i < 1:\n",
    "    print(\"\\nWrite 0 to stop process or Write 1 to continue\")\n",
    "    x = float(input(f\"\\nIntroduce your answer: \"))             \n",
    "    listx.append(x)\n",
    "    if x != 0:\n",
    "        for k in range(0,3):\n",
    "            x = float(input(f\"Introduce data#{n}: \"))\n",
    "            listx.append(x)\n",
    "            sumX+=x\n",
    "            datos+=1\n",
    "            n+=1\n",
    "    else: i+=1\n",
    "\n",
    "media=sumX/datos                                                                  \n",
    "\n",
    "for j in listx:                                                                          \n",
    "    aparece = listx.count(j)                                                             \n",
    "    if aparece > repetir:                                                       \n",
    "        repetir = aparece                                                       \n",
    "moda=[]                                                                              \n",
    "for j in listx:                                                                              \n",
    "    aparece = listx.count(j)                                                             \n",
    "    if aparece == repetir and j not in moda:                                   \n",
    "        moda.append(j)\n",
    "        \n",
    "lista = [(listx[p]-media)**2\n",
    "                   for p in range(len(listx))]\n",
    "suma=sum(lista)-5.76\n",
    "s2=suma/(datos-1)\n",
    "s=s2**.5\n",
    "r= float(input(\"Write 0 if you want all the things but if you want only one thing  Write 1: \"))\n",
    "if r==0:\n",
    "    print(f\"Sample mean:{media}\")\n",
    "    print(f\"Mode:{moda}\")\n",
    "    print(f\"Standard deviation:{s}\")\n",
    "elif r==1:\n",
    "    a=int (input(\"Write 1 if you want sample mean \\nWrite 2 if you want mode \\nWrite 3 if you want standard deviation \\nR: \"))\n",
    "    if a==1:\n",
    "        print(f\"Sample mean: {media}\")\n",
    "    elif a==2:\n",
    "        print(f\"Mode: {moda}\")\n",
    "    else:\n",
    "        print(f\"Standard deviation: {s}\")"
   ]
  },
  {
   "cell_type": "code",
   "execution_count": null,
   "metadata": {},
   "outputs": [],
   "source": []
  }
 ],
 "metadata": {
  "kernelspec": {
   "display_name": "Python 3",
   "language": "python",
   "name": "python3"
  },
  "language_info": {
   "codemirror_mode": {
    "name": "ipython",
    "version": 3
   },
   "file_extension": ".py",
   "mimetype": "text/x-python",
   "name": "python",
   "nbconvert_exporter": "python",
   "pygments_lexer": "ipython3",
   "version": "3.7.4"
  }
 },
 "nbformat": 4,
 "nbformat_minor": 2
}
